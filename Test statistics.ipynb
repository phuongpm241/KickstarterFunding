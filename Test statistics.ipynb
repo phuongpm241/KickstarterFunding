{
 "cells": [
  {
   "cell_type": "code",
   "execution_count": 168,
   "metadata": {
    "collapsed": true
   },
   "outputs": [],
   "source": [
    "import numpy as np\n",
    "import matplotlib.pyplot as plt\n",
    "import pandas as pd\n",
    "from scipy import stats\n",
    "from scipy.stats import chi2_contingency\n",
    "import seaborn as sns\n"
   ]
  },
  {
   "cell_type": "code",
   "execution_count": 153,
   "metadata": {},
   "outputs": [],
   "source": [
    "all_data = pd.read_csv('final_train_data.csv').drop(['Unnamed: 0'], axis = 1)"
   ]
  },
  {
   "cell_type": "code",
   "execution_count": 154,
   "metadata": {},
   "outputs": [
    {
     "data": {
      "text/html": [
       "<div>\n",
       "<style>\n",
       "    .dataframe thead tr:only-child th {\n",
       "        text-align: right;\n",
       "    }\n",
       "\n",
       "    .dataframe thead th {\n",
       "        text-align: left;\n",
       "    }\n",
       "\n",
       "    .dataframe tbody tr th {\n",
       "        vertical-align: top;\n",
       "    }\n",
       "</style>\n",
       "<table border=\"1\" class=\"dataframe\">\n",
       "  <thead>\n",
       "    <tr style=\"text-align: right;\">\n",
       "      <th></th>\n",
       "      <th>project_id</th>\n",
       "      <th>name</th>\n",
       "      <th>desc</th>\n",
       "      <th>goal</th>\n",
       "      <th>keywords</th>\n",
       "      <th>disable_communication</th>\n",
       "      <th>country</th>\n",
       "      <th>currency</th>\n",
       "      <th>deadline</th>\n",
       "      <th>state_changed_at</th>\n",
       "      <th>...</th>\n",
       "      <th>final_status</th>\n",
       "      <th>log_goal</th>\n",
       "      <th>launched_month</th>\n",
       "      <th>launched_year</th>\n",
       "      <th>launched_quarter</th>\n",
       "      <th>duration</th>\n",
       "      <th>duration_weeks</th>\n",
       "      <th>buzzword_count</th>\n",
       "      <th>clean_desc</th>\n",
       "      <th>sentiment</th>\n",
       "    </tr>\n",
       "  </thead>\n",
       "  <tbody>\n",
       "    <tr>\n",
       "      <th>0</th>\n",
       "      <td>kkst1451568084</td>\n",
       "      <td>drawing for dollars</td>\n",
       "      <td>I like drawing pictures. and then i color them...</td>\n",
       "      <td>20.0</td>\n",
       "      <td>drawing-for-dollars</td>\n",
       "      <td>False</td>\n",
       "      <td>US</td>\n",
       "      <td>USD</td>\n",
       "      <td>2009-05-03 02:59:59</td>\n",
       "      <td>2009-05-03 03:00:17</td>\n",
       "      <td>...</td>\n",
       "      <td>1</td>\n",
       "      <td>2.995732</td>\n",
       "      <td>4</td>\n",
       "      <td>2009</td>\n",
       "      <td>2</td>\n",
       "      <td>203</td>\n",
       "      <td>1</td>\n",
       "      <td>0</td>\n",
       "      <td>I like drawing pictures. and then i color them...</td>\n",
       "      <td>2</td>\n",
       "    </tr>\n",
       "    <tr>\n",
       "      <th>1</th>\n",
       "      <td>kkst1474482071</td>\n",
       "      <td>Sponsor Dereck Blackburn (Lostwars) Artist in ...</td>\n",
       "      <td>I, Dereck Blackburn will be taking upon an inc...</td>\n",
       "      <td>300.0</td>\n",
       "      <td>sponsor-dereck-blackburn-lostwars-artist-in-re...</td>\n",
       "      <td>False</td>\n",
       "      <td>US</td>\n",
       "      <td>USD</td>\n",
       "      <td>2009-05-15 19:10:00</td>\n",
       "      <td>2009-05-15 20:00:18</td>\n",
       "      <td>...</td>\n",
       "      <td>0</td>\n",
       "      <td>5.703782</td>\n",
       "      <td>4</td>\n",
       "      <td>2009</td>\n",
       "      <td>2</td>\n",
       "      <td>403</td>\n",
       "      <td>2</td>\n",
       "      <td>0</td>\n",
       "      <td>I, Dereck Blackburn will be taking upon an inc...</td>\n",
       "      <td>3</td>\n",
       "    </tr>\n",
       "    <tr>\n",
       "      <th>2</th>\n",
       "      <td>kkst183622197</td>\n",
       "      <td>Mr. Squiggles</td>\n",
       "      <td>So I saw darkpony's successfully funded drawin...</td>\n",
       "      <td>30.0</td>\n",
       "      <td>mr-squiggles</td>\n",
       "      <td>False</td>\n",
       "      <td>US</td>\n",
       "      <td>USD</td>\n",
       "      <td>2009-05-22 17:26:00</td>\n",
       "      <td>2009-05-22 17:30:18</td>\n",
       "      <td>...</td>\n",
       "      <td>0</td>\n",
       "      <td>3.401197</td>\n",
       "      <td>5</td>\n",
       "      <td>2009</td>\n",
       "      <td>2</td>\n",
       "      <td>239</td>\n",
       "      <td>1</td>\n",
       "      <td>0</td>\n",
       "      <td>So I saw darkpony's successfully funded drawin...</td>\n",
       "      <td>0</td>\n",
       "    </tr>\n",
       "    <tr>\n",
       "      <th>3</th>\n",
       "      <td>kkst597742710</td>\n",
       "      <td>Help me write my second novel.</td>\n",
       "      <td>Do your part to help out starving artists and ...</td>\n",
       "      <td>500.0</td>\n",
       "      <td>help-me-write-my-second-novel</td>\n",
       "      <td>False</td>\n",
       "      <td>US</td>\n",
       "      <td>USD</td>\n",
       "      <td>2009-05-28 20:09:00</td>\n",
       "      <td>2009-05-28 20:15:21</td>\n",
       "      <td>...</td>\n",
       "      <td>1</td>\n",
       "      <td>6.214608</td>\n",
       "      <td>4</td>\n",
       "      <td>2009</td>\n",
       "      <td>2</td>\n",
       "      <td>719</td>\n",
       "      <td>4</td>\n",
       "      <td>2</td>\n",
       "      <td>Do your part to help out starving artists and ...</td>\n",
       "      <td>2</td>\n",
       "    </tr>\n",
       "    <tr>\n",
       "      <th>4</th>\n",
       "      <td>kkst1913131122</td>\n",
       "      <td>Support casting my sculpture in bronze</td>\n",
       "      <td>I'm nearing completion on a sculpture, current...</td>\n",
       "      <td>2000.0</td>\n",
       "      <td>support-casting-my-sculpture-in-bronze</td>\n",
       "      <td>False</td>\n",
       "      <td>US</td>\n",
       "      <td>USD</td>\n",
       "      <td>2009-05-31 07:38:00</td>\n",
       "      <td>2009-05-31 07:45:17</td>\n",
       "      <td>...</td>\n",
       "      <td>0</td>\n",
       "      <td>7.600902</td>\n",
       "      <td>5</td>\n",
       "      <td>2009</td>\n",
       "      <td>2</td>\n",
       "      <td>719</td>\n",
       "      <td>4</td>\n",
       "      <td>1</td>\n",
       "      <td>I'm nearing completion on a sculpture, current...</td>\n",
       "      <td>1</td>\n",
       "    </tr>\n",
       "  </tbody>\n",
       "</table>\n",
       "<p>5 rows × 23 columns</p>\n",
       "</div>"
      ],
      "text/plain": [
       "       project_id                                               name  \\\n",
       "0  kkst1451568084                                drawing for dollars   \n",
       "1  kkst1474482071  Sponsor Dereck Blackburn (Lostwars) Artist in ...   \n",
       "2   kkst183622197                                      Mr. Squiggles   \n",
       "3   kkst597742710                     Help me write my second novel.   \n",
       "4  kkst1913131122             Support casting my sculpture in bronze   \n",
       "\n",
       "                                                desc    goal  \\\n",
       "0  I like drawing pictures. and then i color them...    20.0   \n",
       "1  I, Dereck Blackburn will be taking upon an inc...   300.0   \n",
       "2  So I saw darkpony's successfully funded drawin...    30.0   \n",
       "3  Do your part to help out starving artists and ...   500.0   \n",
       "4  I'm nearing completion on a sculpture, current...  2000.0   \n",
       "\n",
       "                                            keywords  disable_communication  \\\n",
       "0                                drawing-for-dollars                  False   \n",
       "1  sponsor-dereck-blackburn-lostwars-artist-in-re...                  False   \n",
       "2                                       mr-squiggles                  False   \n",
       "3                      help-me-write-my-second-novel                  False   \n",
       "4             support-casting-my-sculpture-in-bronze                  False   \n",
       "\n",
       "  country currency             deadline     state_changed_at    ...      \\\n",
       "0      US      USD  2009-05-03 02:59:59  2009-05-03 03:00:17    ...       \n",
       "1      US      USD  2009-05-15 19:10:00  2009-05-15 20:00:18    ...       \n",
       "2      US      USD  2009-05-22 17:26:00  2009-05-22 17:30:18    ...       \n",
       "3      US      USD  2009-05-28 20:09:00  2009-05-28 20:15:21    ...       \n",
       "4      US      USD  2009-05-31 07:38:00  2009-05-31 07:45:17    ...       \n",
       "\n",
       "  final_status  log_goal  launched_month  launched_year  launched_quarter  \\\n",
       "0            1  2.995732               4           2009                 2   \n",
       "1            0  5.703782               4           2009                 2   \n",
       "2            0  3.401197               5           2009                 2   \n",
       "3            1  6.214608               4           2009                 2   \n",
       "4            0  7.600902               5           2009                 2   \n",
       "\n",
       "   duration  duration_weeks  buzzword_count  \\\n",
       "0       203               1               0   \n",
       "1       403               2               0   \n",
       "2       239               1               0   \n",
       "3       719               4               2   \n",
       "4       719               4               1   \n",
       "\n",
       "                                          clean_desc  sentiment  \n",
       "0  I like drawing pictures. and then i color them...          2  \n",
       "1  I, Dereck Blackburn will be taking upon an inc...          3  \n",
       "2  So I saw darkpony's successfully funded drawin...          0  \n",
       "3  Do your part to help out starving artists and ...          2  \n",
       "4  I'm nearing completion on a sculpture, current...          1  \n",
       "\n",
       "[5 rows x 23 columns]"
      ]
     },
     "execution_count": 154,
     "metadata": {},
     "output_type": "execute_result"
    }
   ],
   "source": [
    "all_data.head()"
   ]
  },
  {
   "cell_type": "code",
   "execution_count": 110,
   "metadata": {
    "collapsed": true
   },
   "outputs": [],
   "source": [
    "def box_plot(data, x, y, y_lim, xlabel, ylabel, title):\n",
    "    xtick = np.array([-1,0,1,2])\n",
    "    plt.boxplot(data, positions = [0,1], whis = 0.5, sym = '', meanline = True)\n",
    "#     y_remain = []\n",
    "#     x_remain = []\n",
    "#     for i, j in enumerate(y):\n",
    "#         if j > y_lim[0] and j < y_lim[1]:\n",
    "#             y_remain.append(j)\n",
    "#             x_remain.append(x[i])\n",
    "#    plt.scatter(x, y, c = 'orange', marker = '.', alpha = 0.3)\n",
    "    plt.plot(xtick, slope*xtick+intercept, c = 'red')\n",
    "    plt.xlabel(xlabel)\n",
    "    plt.ylabel(ylabel)\n",
    "    plt.title(title)\n",
    "    if y_lim != None:\n",
    "        plt.ylim(y_lim)\n",
    "    plt.show()"
   ]
  },
  {
   "cell_type": "code",
   "execution_count": 111,
   "metadata": {},
   "outputs": [
    {
     "name": "stdout",
     "output_type": "stream",
     "text": [
      "1.4909892710805388e-209\n",
      "0.008787554580326509\n"
     ]
    }
   ],
   "source": [
    "x = all_data['final_status'].values\n",
    "# y = all_data['backers_count'].apply(lambda x: np.log(x) if x >1 else 0).values\n",
    "y = all_data['duration'].values\n",
    "slope, intercept, r_value, p_value, std_err = stats.linregress(x,y)\n",
    "data = [[],[]]\n",
    "for i, j in enumerate(x):\n",
    "    data[j%2].append(y[i])\n",
    "print(p_value)\n",
    "print(r_value**2)"
   ]
  },
  {
   "cell_type": "code",
   "execution_count": 112,
   "metadata": {},
   "outputs": [
    {
     "data": {
      "image/png": "[encoded data removed]",
      "text/plain": [
       "<matplotlib.figure.Figure at 0x11988b2e8>"
      ]
     },
     "metadata": {},
     "output_type": "display_data"
    }
   ],
   "source": [
    "box_plot(data, x, y, None, 'Final status', 'duration', 'duration (hours) v.s final status (p_value = %.2f)' % p_value)"
   ]
  },
  {
   "cell_type": "code",
   "execution_count": 126,
   "metadata": {},
   "outputs": [],
   "source": [
    "# Chi-square test for disable communication\n",
    "#                0  1\n",
    "obs = np.array([[0, 0],  #True\n",
    "                [0, 0]]) #False\n",
    "consider = all_data[['disable_communication', 'final_status']]\n",
    "true_0 = all_data.groupby(['disable_communication'])['final_status'].apply(list).reset_index(name = 'final_status')"
   ]
  },
  {
   "cell_type": "code",
   "execution_count": 127,
   "metadata": {},
   "outputs": [
    {
     "data": {
      "text/html": [
       "<div>\n",
       "<style>\n",
       "    .dataframe thead tr:only-child th {\n",
       "        text-align: right;\n",
       "    }\n",
       "\n",
       "    .dataframe thead th {\n",
       "        text-align: left;\n",
       "    }\n",
       "\n",
       "    .dataframe tbody tr th {\n",
       "        vertical-align: top;\n",
       "    }\n",
       "</style>\n",
       "<table border=\"1\" class=\"dataframe\">\n",
       "  <thead>\n",
       "    <tr style=\"text-align: right;\">\n",
       "      <th></th>\n",
       "      <th>disable_communication</th>\n",
       "      <th>final_status</th>\n",
       "    </tr>\n",
       "  </thead>\n",
       "  <tbody>\n",
       "    <tr>\n",
       "      <th>0</th>\n",
       "      <td>False</td>\n",
       "      <td>[1, 0, 0, 1, 0, 0, 0, 1, 0, 0, 0, 0, 1, 1, 0, ...</td>\n",
       "    </tr>\n",
       "    <tr>\n",
       "      <th>1</th>\n",
       "      <td>True</td>\n",
       "      <td>[0, 0, 0, 0, 0, 0, 0, 0, 0, 0, 0, 0, 0, 0, 0, ...</td>\n",
       "    </tr>\n",
       "  </tbody>\n",
       "</table>\n",
       "</div>"
      ],
      "text/plain": [
       "   disable_communication                                       final_status\n",
       "0                  False  [1, 0, 0, 1, 0, 0, 0, 1, 0, 0, 0, 0, 1, 1, 0, ...\n",
       "1                   True  [0, 0, 0, 0, 0, 0, 0, 0, 0, 0, 0, 0, 0, 0, 0, ..."
      ]
     },
     "execution_count": 127,
     "metadata": {},
     "output_type": "execute_result"
    }
   ],
   "source": [
    "true_0"
   ]
  },
  {
   "cell_type": "code",
   "execution_count": 135,
   "metadata": {},
   "outputs": [],
   "source": [
    "total_true = np.sum(true_0.loc[true_0['disable_communication'] == True, 'final_status'].iloc[0])\n",
    "obs[0][0] = len(true_0.loc[true_0['disable_communication'] == True, 'final_status'].iloc[0])"
   ]
  },
  {
   "cell_type": "code",
   "execution_count": 136,
   "metadata": {},
   "outputs": [
    {
     "data": {
      "text/plain": [
       "0"
      ]
     },
     "execution_count": 136,
     "metadata": {},
     "output_type": "execute_result"
    }
   ],
   "source": [
    "total_true"
   ]
  },
  {
   "cell_type": "code",
   "execution_count": 138,
   "metadata": {},
   "outputs": [],
   "source": [
    "total_1 = np.sum(true_0.loc[true_0['disable_communication'] == False, 'final_status'].iloc[0])"
   ]
  },
  {
   "cell_type": "code",
   "execution_count": 139,
   "metadata": {
    "collapsed": true
   },
   "outputs": [],
   "source": [
    "total_false = len(true_0.loc[true_0['disable_communication'] == False, 'final_status'].iloc[0])"
   ]
  },
  {
   "cell_type": "code",
   "execution_count": 140,
   "metadata": {
    "collapsed": true
   },
   "outputs": [],
   "source": [
    "obs[1][1] = total_1\n",
    "obs[1][0] = total_false - total_1"
   ]
  },
  {
   "cell_type": "code",
   "execution_count": 141,
   "metadata": {},
   "outputs": [
    {
     "data": {
      "text/plain": [
       "array([[  323,     0],\n",
       "       [73245, 34561]])"
      ]
     },
     "execution_count": 141,
     "metadata": {},
     "output_type": "execute_result"
    }
   ],
   "source": [
    "obs"
   ]
  },
  {
   "cell_type": "code",
   "execution_count": 142,
   "metadata": {
    "collapsed": true
   },
   "outputs": [],
   "source": [
    "g, p, dof, expctd = chi2_contingency(obs, lambda_=\"log-likelihood\")"
   ]
  },
  {
   "cell_type": "code",
   "execution_count": 143,
   "metadata": {},
   "outputs": [
    {
     "data": {
      "text/plain": [
       "1.204274932754295e-34"
      ]
     },
     "execution_count": 143,
     "metadata": {},
     "output_type": "execute_result"
    }
   ],
   "source": [
    "p"
   ]
  },
  {
   "cell_type": "code",
   "execution_count": 172,
   "metadata": {},
   "outputs": [
    {
     "name": "stdout",
     "output_type": "stream",
     "text": [
      "(12, 12)\n"
     ]
    },
    {
     "data": {
      "image/png": "[encoded data removed]",
      "text/plain": [
       "<matplotlib.figure.Figure at 0x1a3f0aecf8>"
      ]
     },
     "metadata": {},
     "output_type": "display_data"
    }
   ],
   "source": [
    "corr_matrix = all_data.corr()\n",
    "print(corr_matrix.shape)\n",
    "\n",
    "norm = MidPointNorm(midpoint=0)\n",
    "# Generate a mask for the upper triangle\n",
    "mask = np.zeros_like(corr_matrix, dtype=np.bool)\n",
    "mask[np.triu_indices_from(mask)] = True\n",
    "\n",
    "# Set up the matplotlib figure\n",
    "f, ax = plt.subplots(figsize=(11, 9))\n",
    "\n",
    "# Generate a custom diverging colormap\n",
    "cmap = sns.diverging_palette(220, 10, as_cmap=True)\n",
    "\n",
    "# Draw the heatmap with the mask and correct aspect ratio\n",
    "#sns.heatmap(corr_matrix, mask=mask, cmap=cmap, vmax=.3, center=0,\n",
    "#            square=True, linewidths=.5, cbar_kws={\"shrink\": .5}, ax = ax)\n",
    "sns.heatmap(corr_matrix, cmap=cmap, mask = mask, center=0)\n",
    "plt.show()"
   ]
  },
  {
   "cell_type": "code",
   "execution_count": 174,
   "metadata": {},
   "outputs": [],
   "source": [
    "onehot = ['country', 'currency']\n",
    "one_hot = pd.get_dummies(all_data, prefix=onehot, columns=onehot)"
   ]
  },
  {
   "cell_type": "code",
   "execution_count": 175,
   "metadata": {},
   "outputs": [
    {
     "data": {
      "text/html": [
       "<div>\n",
       "<style>\n",
       "    .dataframe thead tr:only-child th {\n",
       "        text-align: right;\n",
       "    }\n",
       "\n",
       "    .dataframe thead th {\n",
       "        text-align: left;\n",
       "    }\n",
       "\n",
       "    .dataframe tbody tr th {\n",
       "        vertical-align: top;\n",
       "    }\n",
       "</style>\n",
       "<table border=\"1\" class=\"dataframe\">\n",
       "  <thead>\n",
       "    <tr style=\"text-align: right;\">\n",
       "      <th></th>\n",
       "      <th>project_id</th>\n",
       "      <th>name</th>\n",
       "      <th>desc</th>\n",
       "      <th>goal</th>\n",
       "      <th>keywords</th>\n",
       "      <th>disable_communication</th>\n",
       "      <th>deadline</th>\n",
       "      <th>state_changed_at</th>\n",
       "      <th>created_at</th>\n",
       "      <th>launched_at</th>\n",
       "      <th>...</th>\n",
       "      <th>country_US</th>\n",
       "      <th>currency_AUD</th>\n",
       "      <th>currency_CAD</th>\n",
       "      <th>currency_DKK</th>\n",
       "      <th>currency_EUR</th>\n",
       "      <th>currency_GBP</th>\n",
       "      <th>currency_NOK</th>\n",
       "      <th>currency_NZD</th>\n",
       "      <th>currency_SEK</th>\n",
       "      <th>currency_USD</th>\n",
       "    </tr>\n",
       "  </thead>\n",
       "  <tbody>\n",
       "    <tr>\n",
       "      <th>0</th>\n",
       "      <td>kkst1451568084</td>\n",
       "      <td>drawing for dollars</td>\n",
       "      <td>I like drawing pictures. and then i color them...</td>\n",
       "      <td>20.0</td>\n",
       "      <td>drawing-for-dollars</td>\n",
       "      <td>False</td>\n",
       "      <td>2009-05-03 02:59:59</td>\n",
       "      <td>2009-05-03 03:00:17</td>\n",
       "      <td>2009-04-24 15:15:07</td>\n",
       "      <td>2009-04-24 15:52:03</td>\n",
       "      <td>...</td>\n",
       "      <td>1</td>\n",
       "      <td>0</td>\n",
       "      <td>0</td>\n",
       "      <td>0</td>\n",
       "      <td>0</td>\n",
       "      <td>0</td>\n",
       "      <td>0</td>\n",
       "      <td>0</td>\n",
       "      <td>0</td>\n",
       "      <td>1</td>\n",
       "    </tr>\n",
       "    <tr>\n",
       "      <th>1</th>\n",
       "      <td>kkst1474482071</td>\n",
       "      <td>Sponsor Dereck Blackburn (Lostwars) Artist in ...</td>\n",
       "      <td>I, Dereck Blackburn will be taking upon an inc...</td>\n",
       "      <td>300.0</td>\n",
       "      <td>sponsor-dereck-blackburn-lostwars-artist-in-re...</td>\n",
       "      <td>False</td>\n",
       "      <td>2009-05-15 19:10:00</td>\n",
       "      <td>2009-05-15 20:00:18</td>\n",
       "      <td>2009-04-28 19:10:24</td>\n",
       "      <td>2009-04-28 23:26:32</td>\n",
       "      <td>...</td>\n",
       "      <td>1</td>\n",
       "      <td>0</td>\n",
       "      <td>0</td>\n",
       "      <td>0</td>\n",
       "      <td>0</td>\n",
       "      <td>0</td>\n",
       "      <td>0</td>\n",
       "      <td>0</td>\n",
       "      <td>0</td>\n",
       "      <td>1</td>\n",
       "    </tr>\n",
       "    <tr>\n",
       "      <th>2</th>\n",
       "      <td>kkst183622197</td>\n",
       "      <td>Mr. Squiggles</td>\n",
       "      <td>So I saw darkpony's successfully funded drawin...</td>\n",
       "      <td>30.0</td>\n",
       "      <td>mr-squiggles</td>\n",
       "      <td>False</td>\n",
       "      <td>2009-05-22 17:26:00</td>\n",
       "      <td>2009-05-22 17:30:18</td>\n",
       "      <td>2009-05-12 17:26:53</td>\n",
       "      <td>2009-05-12 17:39:58</td>\n",
       "      <td>...</td>\n",
       "      <td>1</td>\n",
       "      <td>0</td>\n",
       "      <td>0</td>\n",
       "      <td>0</td>\n",
       "      <td>0</td>\n",
       "      <td>0</td>\n",
       "      <td>0</td>\n",
       "      <td>0</td>\n",
       "      <td>0</td>\n",
       "      <td>1</td>\n",
       "    </tr>\n",
       "    <tr>\n",
       "      <th>3</th>\n",
       "      <td>kkst597742710</td>\n",
       "      <td>Help me write my second novel.</td>\n",
       "      <td>Do your part to help out starving artists and ...</td>\n",
       "      <td>500.0</td>\n",
       "      <td>help-me-write-my-second-novel</td>\n",
       "      <td>False</td>\n",
       "      <td>2009-05-28 20:09:00</td>\n",
       "      <td>2009-05-28 20:15:21</td>\n",
       "      <td>2009-04-28 20:09:55</td>\n",
       "      <td>2009-04-28 20:58:50</td>\n",
       "      <td>...</td>\n",
       "      <td>1</td>\n",
       "      <td>0</td>\n",
       "      <td>0</td>\n",
       "      <td>0</td>\n",
       "      <td>0</td>\n",
       "      <td>0</td>\n",
       "      <td>0</td>\n",
       "      <td>0</td>\n",
       "      <td>0</td>\n",
       "      <td>1</td>\n",
       "    </tr>\n",
       "    <tr>\n",
       "      <th>4</th>\n",
       "      <td>kkst1913131122</td>\n",
       "      <td>Support casting my sculpture in bronze</td>\n",
       "      <td>I'm nearing completion on a sculpture, current...</td>\n",
       "      <td>2000.0</td>\n",
       "      <td>support-casting-my-sculpture-in-bronze</td>\n",
       "      <td>False</td>\n",
       "      <td>2009-05-31 07:38:00</td>\n",
       "      <td>2009-05-31 07:45:17</td>\n",
       "      <td>2009-05-01 07:38:34</td>\n",
       "      <td>2009-05-01 08:22:21</td>\n",
       "      <td>...</td>\n",
       "      <td>1</td>\n",
       "      <td>0</td>\n",
       "      <td>0</td>\n",
       "      <td>0</td>\n",
       "      <td>0</td>\n",
       "      <td>0</td>\n",
       "      <td>0</td>\n",
       "      <td>0</td>\n",
       "      <td>0</td>\n",
       "      <td>1</td>\n",
       "    </tr>\n",
       "  </tbody>\n",
       "</table>\n",
       "<p>5 rows × 41 columns</p>\n",
       "</div>"
      ],
      "text/plain": [
       "       project_id                                               name  \\\n",
       "0  kkst1451568084                                drawing for dollars   \n",
       "1  kkst1474482071  Sponsor Dereck Blackburn (Lostwars) Artist in ...   \n",
       "2   kkst183622197                                      Mr. Squiggles   \n",
       "3   kkst597742710                     Help me write my second novel.   \n",
       "4  kkst1913131122             Support casting my sculpture in bronze   \n",
       "\n",
       "                                                desc    goal  \\\n",
       "0  I like drawing pictures. and then i color them...    20.0   \n",
       "1  I, Dereck Blackburn will be taking upon an inc...   300.0   \n",
       "2  So I saw darkpony's successfully funded drawin...    30.0   \n",
       "3  Do your part to help out starving artists and ...   500.0   \n",
       "4  I'm nearing completion on a sculpture, current...  2000.0   \n",
       "\n",
       "                                            keywords  disable_communication  \\\n",
       "0                                drawing-for-dollars                  False   \n",
       "1  sponsor-dereck-blackburn-lostwars-artist-in-re...                  False   \n",
       "2                                       mr-squiggles                  False   \n",
       "3                      help-me-write-my-second-novel                  False   \n",
       "4             support-casting-my-sculpture-in-bronze                  False   \n",
       "\n",
       "              deadline     state_changed_at           created_at  \\\n",
       "0  2009-05-03 02:59:59  2009-05-03 03:00:17  2009-04-24 15:15:07   \n",
       "1  2009-05-15 19:10:00  2009-05-15 20:00:18  2009-04-28 19:10:24   \n",
       "2  2009-05-22 17:26:00  2009-05-22 17:30:18  2009-05-12 17:26:53   \n",
       "3  2009-05-28 20:09:00  2009-05-28 20:15:21  2009-04-28 20:09:55   \n",
       "4  2009-05-31 07:38:00  2009-05-31 07:45:17  2009-05-01 07:38:34   \n",
       "\n",
       "           launched_at     ...       country_US  currency_AUD  currency_CAD  \\\n",
       "0  2009-04-24 15:52:03     ...                1             0             0   \n",
       "1  2009-04-28 23:26:32     ...                1             0             0   \n",
       "2  2009-05-12 17:39:58     ...                1             0             0   \n",
       "3  2009-04-28 20:58:50     ...                1             0             0   \n",
       "4  2009-05-01 08:22:21     ...                1             0             0   \n",
       "\n",
       "   currency_DKK  currency_EUR  currency_GBP  currency_NOK  currency_NZD  \\\n",
       "0             0             0             0             0             0   \n",
       "1             0             0             0             0             0   \n",
       "2             0             0             0             0             0   \n",
       "3             0             0             0             0             0   \n",
       "4             0             0             0             0             0   \n",
       "\n",
       "   currency_SEK currency_USD  \n",
       "0             0            1  \n",
       "1             0            1  \n",
       "2             0            1  \n",
       "3             0            1  \n",
       "4             0            1  \n",
       "\n",
       "[5 rows x 41 columns]"
      ]
     },
     "execution_count": 175,
     "metadata": {},
     "output_type": "execute_result"
    }
   ],
   "source": [
    "one_hot.head()"
   ]
  },
  {
   "cell_type": "code",
   "execution_count": 176,
   "metadata": {},
   "outputs": [
    {
     "name": "stdout",
     "output_type": "stream",
     "text": [
      "(32, 32)\n"
     ]
    },
    {
     "data": {
      "image/png": "[encoded data removed]",
      "text/plain": [
       "<matplotlib.figure.Figure at 0x1a251446a0>"
      ]
     },
     "metadata": {},
     "output_type": "display_data"
    }
   ],
   "source": [
    "corr_matrix = one_hot.corr()\n",
    "print(corr_matrix.shape)\n",
    "\n",
    "norm = MidPointNorm(midpoint=0)\n",
    "# Generate a mask for the upper triangle\n",
    "mask = np.zeros_like(corr_matrix, dtype=np.bool)\n",
    "mask[np.triu_indices_from(mask)] = True\n",
    "\n",
    "# Set up the matplotlib figure\n",
    "f, ax = plt.subplots(figsize=(11, 9))\n",
    "\n",
    "# Generate a custom diverging colormap\n",
    "cmap = sns.diverging_palette(220, 10, as_cmap=True)\n",
    "\n",
    "# Draw the heatmap with the mask and correct aspect ratio\n",
    "#sns.heatmap(corr_matrix, mask=mask, cmap=cmap, vmax=.3, center=0,\n",
    "#            square=True, linewidths=.5, cbar_kws={\"shrink\": .5}, ax = ax)\n",
    "sns.heatmap(corr_matrix, cmap=cmap, mask = mask, center=0)\n",
    "plt.show()"
   ]
  },
  {
   "cell_type": "code",
   "execution_count": 177,
   "metadata": {},
   "outputs": [
    {
     "name": "stdout",
     "output_type": "stream",
     "text": [
      "<class 'pandas.core.frame.DataFrame'>\n",
      "RangeIndex: 108129 entries, 0 to 108128\n",
      "Data columns (total 23 columns):\n",
      "project_id               108129 non-null object\n",
      "name                     108128 non-null object\n",
      "desc                     108121 non-null object\n",
      "goal                     108129 non-null float64\n",
      "keywords                 108129 non-null object\n",
      "disable_communication    108129 non-null bool\n",
      "country                  108129 non-null object\n",
      "currency                 108129 non-null object\n",
      "deadline                 108129 non-null object\n",
      "state_changed_at         108129 non-null object\n",
      "created_at               108129 non-null object\n",
      "launched_at              108129 non-null object\n",
      "backers_count            108129 non-null int64\n",
      "final_status             108129 non-null int64\n",
      "log_goal                 108129 non-null float64\n",
      "launched_month           108129 non-null int64\n",
      "launched_year            108129 non-null int64\n",
      "launched_quarter         108129 non-null int64\n",
      "duration                 108129 non-null int64\n",
      "duration_weeks           108129 non-null int64\n",
      "buzzword_count           108129 non-null int64\n",
      "clean_desc               108121 non-null object\n",
      "sentiment                108129 non-null int64\n",
      "dtypes: bool(1), float64(2), int64(9), object(11)\n",
      "memory usage: 18.3+ MB\n"
     ]
    }
   ],
   "source": [
    "all_data.info()"
   ]
  },
  {
   "cell_type": "code",
   "execution_count": null,
   "metadata": {
    "collapsed": true
   },
   "outputs": [],
   "source": []
  }
 ],
 "metadata": {
  "kernelspec": {
   "display_name": "Python 3",
   "language": "python",
   "name": "python3"
  },
  "language_info": {
   "codemirror_mode": {
    "name": "ipython",
    "version": 3
   },
   "file_extension": ".py",
   "mimetype": "text/x-python",
   "name": "python",
   "nbconvert_exporter": "python",
   "pygments_lexer": "ipython3",
   "version": "3.6.3"
  }
 },
 "nbformat": 4,
 "nbformat_minor": 2
}
