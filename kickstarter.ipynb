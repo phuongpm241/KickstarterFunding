{
  "cells": [
    {
      "metadata": {
        "_uuid": "8f2839f25d086af736a60e9eeb907d3b93b6e0e5",
        "_cell_guid": "b1076dfc-b9ad-4769-8c92-a6c4dae69d19",
        "trusted": true
      },
      "cell_type": "code",
      "source": "# This Python 3 environment comes with many helpful analytics libraries installed\n# It is defined by the kaggle/python docker image: https://github.com/kaggle/docker-python\n# For example, here's several helpful packages to load in \n\nimport numpy as np # linear algebra\nimport pandas as pd # data processing, CSV file I/O (e.g. pd.read_csv)\nimport seaborn as sns \nimport re\nimport matplotlib.pyplot as plt\nfrom datetime import datetime\nfrom sklearn.model_selection import train_test_split\nfrom sklearn import svm\nfrom sklearn import preprocessing\nfrom textblob import TextBlob\n\n# Input data files are available in the \"../input/\" directory.\n# For example, running this (by clicking run or pressing Shift+Enter) will list the files in the input directory\n\nimport os\nprint(os.listdir(\"../input\"))",
      "execution_count": null,
      "outputs": []
    },
    {
      "metadata": {
        "_cell_guid": "79c7e3d0-c299-4dcb-8224-4455121ee9b0",
        "_uuid": "d629ff2d2480ee46fbb7e2d37f6b5fab8052498a",
        "trusted": true
      },
      "cell_type": "code",
      "source": "train_data = pd.read_csv(\"../input/train.csv\")",
      "execution_count": null,
      "outputs": []
    },
    {
      "metadata": {
        "trusted": true,
        "_uuid": "a95fa0799aed74f1ca7b1e033ea9ef880b8861cd"
      },
      "cell_type": "code",
      "source": "# Overview\ntrain_data.head()",
      "execution_count": null,
      "outputs": []
    },
    {
      "metadata": {
        "trusted": true,
        "_uuid": "84126abd6aebdb29d8f9f4843747664991cbc75d"
      },
      "cell_type": "code",
      "source": "train_data.info()",
      "execution_count": null,
      "outputs": []
    },
    {
      "metadata": {
        "trusted": true,
        "_uuid": "d9b6eec14f5ebe046ccb72c4987b6053b027b173"
      },
      "cell_type": "code",
      "source": "# Find if any entries are null\nfor i in train_data.columns:\n    print(i, train_data[i].isnull().sum().sum())",
      "execution_count": null,
      "outputs": []
    },
    {
      "metadata": {
        "trusted": true,
        "_uuid": "22f5a5301d4af850712a718edf37e04e62d01e08"
      },
      "cell_type": "code",
      "source": "# Fill in missing data by empty string\ntrain_data['name'].fillna(\" \")\ntrain_data['desc'].fillna(\" \")",
      "execution_count": null,
      "outputs": []
    },
    {
      "metadata": {
        "trusted": true,
        "_uuid": "bf0e6d5a9daeba8e90f875baeda3756dc5a8fb3e"
      },
      "cell_type": "code",
      "source": "# Convert UNIX time format to standard time format\ndate_column = ['deadline', 'state_changed_at', 'created_at', 'launched_at']\nfor i in date_column:\n    train_data[i]=train_data[i].apply(lambda x: datetime.fromtimestamp(int(x)).strftime(\"%Y-%m-%d %H:%M:%S\"))",
      "execution_count": null,
      "outputs": []
    },
    {
      "metadata": {
        "_uuid": "d8f736f51230f204ab3ce8ee6495c3ffe7c28236"
      },
      "cell_type": "markdown",
      "source": "**Preliminary exploration**\n- How many projects got funded successfullly?\n- How much is the goal? Can we/should we decompose the goal into bins or use numerical value?\n- Are there any correlations between the currency and the status of funded projects? (ie. Is USD more favorable?)\n- Are there any correlations between the country and the status of funded projects? (ie. Is a project in the US more likely to be funded?)\n- Distribution of funded/not funded projects over years/months?\n"
    },
    {
      "metadata": {
        "trusted": true,
        "_uuid": "150c2c339090c09c220a3064d242206bffadaab7"
      },
      "cell_type": "code",
      "source": "# Distribution of funded projects\nsns.countplot(x='final_status',data=train_data)\nplt.show()",
      "execution_count": null,
      "outputs": []
    },
    {
      "metadata": {
        "_uuid": "a06a015f41fe4faa643851c504c26c3dab630432"
      },
      "cell_type": "markdown",
      "source": "Most of the goal is less than 20,000,000. There are some outliers which have detorted the goal features. These outliers might need to be removed.  After removing outliers, a few observations:\n1. Most projects have very small goal\n2. Most funded projects have goal less than 20000"
    },
    {
      "metadata": {
        "trusted": true,
        "_uuid": "acb3bca81278ef6032d82453184569aaec58132a"
      },
      "cell_type": "code",
      "source": "# Distribution of goals\nsns.distplot(train_data['goal'], bins=5)\nplt.show()",
      "execution_count": null,
      "outputs": []
    },
    {
      "metadata": {
        "trusted": true,
        "_uuid": "d14719591a2c42b42ae402738a3f75e3857d1e25"
      },
      "cell_type": "code",
      "source": "train_data['goal'].describe()",
      "execution_count": null,
      "outputs": []
    },
    {
      "metadata": {
        "trusted": true,
        "_uuid": "cc5b900469ddd6f8c79cb92ac38ba6306dd670ab"
      },
      "cell_type": "code",
      "source": "#Remove some of the outliers and replot the histograms\nP = np.percentile(train_data['goal'], [0, 95])\nnew_goal = train_data[(train_data['goal'] > P[0]) & (train_data['goal'] < P[1])]",
      "execution_count": null,
      "outputs": []
    },
    {
      "metadata": {
        "trusted": true,
        "_uuid": "8b17a53b581cec7d0c7ff2b54979fd3a1aac79f3"
      },
      "cell_type": "code",
      "source": "sns.distplot(new_goal['goal'], bins=5)\nplt.show()",
      "execution_count": null,
      "outputs": []
    },
    {
      "metadata": {
        "trusted": true,
        "_uuid": "01dabe19fb8ada754f4131da197c2a502d4f14dd"
      },
      "cell_type": "code",
      "source": "g = sns.FacetGrid(new_goal, col='final_status')\ng.map(plt.hist, 'goal', bins = 40)",
      "execution_count": null,
      "outputs": []
    },
    {
      "metadata": {
        "_uuid": "9bbfacd70bad7d94e45da70499defe1e2c228eb5"
      },
      "cell_type": "markdown",
      "source": "It does looks like most of the projects got fully funded are the ones asking for less than 20,000. Next, we will see if that goal feature has any multivariate correlation with country or currency."
    },
    {
      "metadata": {
        "trusted": true,
        "_uuid": "2f74560378d81cb187693de247981fd99bfe38c4"
      },
      "cell_type": "code",
      "source": "g = sns.FacetGrid(new_goal, col=\"final_status\",  row=\"country\")\ng = g.map(plt.hist, \"goal\", bins = 40)",
      "execution_count": null,
      "outputs": []
    },
    {
      "metadata": {
        "trusted": true,
        "_uuid": "9c3b7e4433387ce1641e79c4e512140c47559e39"
      },
      "cell_type": "code",
      "source": "non_us = new_goal[new_goal['country'] != 'US']\ng = sns.FacetGrid(non_us, col=\"final_status\",  row=\"country\")\ng = g.map(plt.hist, \"goal\", bins = 40)",
      "execution_count": null,
      "outputs": []
    },
    {
      "metadata": {
        "_uuid": "a483e3f0ccf288d7785158c32fe15af34c8c3732"
      },
      "cell_type": "markdown",
      "source": "It doesn't look like **disable_communication** is a good feature to include, if at all. Most of the projects in this dataset are communication-disabled. However, a chi-square test needs to be done. It might be because of communication that a project is not funded."
    },
    {
      "metadata": {
        "trusted": true,
        "_uuid": "3bb5df74ffb179ec085bdd33f0bff7f91e3ab9f1"
      },
      "cell_type": "code",
      "source": "# Explore the effect of disable_communication\nfigure, axes = plt.subplots(1, 2, sharey=True)\nsns.countplot(x='disable_communication',data=train_data, hue='final_status', ax = axes[0])\nsns.countplot(x='final_status', data= train_data, ax = axes[1])\nplt.show()",
      "execution_count": null,
      "outputs": []
    },
    {
      "metadata": {
        "trusted": true,
        "_uuid": "20c4be1404cd518da4b6fb2fe9f69df5dbb86df7"
      },
      "cell_type": "code",
      "source": "train_data['disable_communication'].describe()",
      "execution_count": null,
      "outputs": []
    },
    {
      "metadata": {
        "_uuid": "6607ba6d7aa4a0dc1b5622e926ae25fb1779cee9"
      },
      "cell_type": "markdown",
      "source": "It does look like country and currency of project impacts whether or not a project got funded. Since they are nomial data, we will need to convert them into one-hot encoding. "
    },
    {
      "metadata": {
        "trusted": true,
        "_uuid": "04d8c1e71b064a7b60cdb0e357c8ddeffe4907a6"
      },
      "cell_type": "code",
      "source": "figure, axes = plt.subplots(2)\nsns.countplot(x='country',data=train_data, hue='final_status', ax = axes[0])\nsns.countplot(x='currency',data=train_data, hue='final_status', ax = axes[1])\nplt.show()",
      "execution_count": null,
      "outputs": []
    },
    {
      "metadata": {
        "trusted": true,
        "_uuid": "b2d63371e8fedd84b895f60eb03e5489e7128cf6"
      },
      "cell_type": "code",
      "source": "figure, axes = plt.subplots(2)\nsns.countplot(x='country',data=train_data, ax = axes[0])\nsns.countplot(x='currency',data=train_data, ax = axes[1])\nplt.show()",
      "execution_count": null,
      "outputs": []
    },
    {
      "metadata": {
        "trusted": true,
        "_uuid": "365e6ecb7cb04dbe2134456c3d440529111d5c8d"
      },
      "cell_type": "markdown",
      "source": "From these plots and from the above goal conditioned on currency plots, we can safely remove SEK, NOK, SKK because they don't add into the prediction. Removing these data points also makes one-hot encoding cleaner. "
    },
    {
      "metadata": {
        "_uuid": "47df0fccaca98e9120928ba5d352441ae0efce67"
      },
      "cell_type": "markdown",
      "source": "Next, we investigate the **number of backers** and its relationship to project status. "
    },
    {
      "metadata": {
        "trusted": true,
        "_uuid": "622deb8cd5332869ca4e5e3cee9c0a2017dc311d"
      },
      "cell_type": "code",
      "source": "# Understand the distribution of backers using box-plot\nax = sns.boxplot(x=train_data[\"backers_count\"])\n",
      "execution_count": null,
      "outputs": []
    },
    {
      "metadata": {
        "trusted": true,
        "_uuid": "477211a24b3488f1b8c2b28a9ce6dc74838f3518"
      },
      "cell_type": "code",
      "source": "#Remove some of the outliers and replot the histograms\nP_backer = np.percentile(train_data['backers_count'], [0, 95])\nnew_backers = train_data[(train_data['backers_count'] > P_backer[0]) & (train_data['backers_count'] < P_backer[1])]",
      "execution_count": null,
      "outputs": []
    },
    {
      "metadata": {
        "trusted": true,
        "_uuid": "f3581b8f5d101f80127e146d3425c1791811cd2b"
      },
      "cell_type": "code",
      "source": "ax = sns.boxplot(x=new_backers[\"backers_count\"])",
      "execution_count": null,
      "outputs": []
    },
    {
      "metadata": {
        "trusted": true,
        "_uuid": "2c2d52c74a431affc86c062d1a10e50f55c32878"
      },
      "cell_type": "code",
      "source": "new_backers.shape",
      "execution_count": null,
      "outputs": []
    },
    {
      "metadata": {
        "trusted": true,
        "_uuid": "429f108cf2430038efea0bb3d4ea6c4a1d117f16"
      },
      "cell_type": "markdown",
      "source": "Next, we investigate whether there is any correlation between the number of backers and the goals, countries, and finally the project status"
    },
    {
      "metadata": {
        "trusted": true,
        "_uuid": "be69b0220202ff48f39238e53eea5de7300b0bae"
      },
      "cell_type": "code",
      "source": "# Explore the effect of disable_communication\n# figure, axes = plt.subplots(1, 2, sharey=True)\nsns.countplot(x='backers_count',data=new_backers, hue='final_status')\nplt.xticks([],[])\n# sns.countplot(x='final_status', data= train_data, ax = axes[1])\nplt.show()",
      "execution_count": null,
      "outputs": []
    },
    {
      "metadata": {
        "trusted": true,
        "_uuid": "8814082986ed6fe34ca8d6ec9851a71a6bf76a81"
      },
      "cell_type": "code",
      "source": "",
      "execution_count": null,
      "outputs": []
    }
  ],
  "metadata": {
    "kernelspec": {
      "display_name": "Python 3",
      "language": "python",
      "name": "python3"
    },
    "language_info": {
      "name": "python",
      "version": "3.6.6",
      "mimetype": "text/x-python",
      "codemirror_mode": {
        "name": "ipython",
        "version": 3
      },
      "pygments_lexer": "ipython3",
      "nbconvert_exporter": "python",
      "file_extension": ".py"
    }
  },
  "nbformat": 4,
  "nbformat_minor": 1
}